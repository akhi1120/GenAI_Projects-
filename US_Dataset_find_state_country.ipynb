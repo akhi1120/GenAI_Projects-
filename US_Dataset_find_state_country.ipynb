{
 "cells": [
  {
   "cell_type": "markdown",
   "id": "a8e57ab4",
   "metadata": {},
   "source": [
    "# Import Necessary libraries"
   ]
  },
  {
   "cell_type": "code",
   "execution_count": 1,
   "id": "abbd237c-662c-479a-b458-f91cacdbe694",
   "metadata": {},
   "outputs": [],
   "source": [
    "import os\n",
    "import re\n",
    "import pandas as pd\n",
    "from langchain.chat_models import ChatOpenAI\n",
    "from langchain.schema import SystemMessage, HumanMessage"
   ]
  },
  {
   "cell_type": "markdown",
   "id": "ac623e63",
   "metadata": {},
   "source": [
    "# Load dataset"
   ]
  },
  {
   "cell_type": "code",
   "execution_count": null,
   "id": "effbc0b0-88ac-4c35-a7d9-ced2754e7e59",
   "metadata": {},
   "outputs": [],
   "source": [
    "data = pd.read_excel(\"C:\\\\Users\\\\akhil\\\\Downloads\\\\US_addresses.xlsx\")"
   ]
  },
  {
   "cell_type": "markdown",
   "id": "8b343ab7",
   "metadata": {},
   "source": [
    "# Setting OpenApi key"
   ]
  },
  {
   "cell_type": "code",
   "execution_count": null,
   "id": "cb54b1a6-f7d6-4ea5-8129-79cd2dbf3066",
   "metadata": {},
   "outputs": [],
   "source": [
    "import os\n",
    "os.environ[\"OPENAI_API_KEY\"] =\"your api key\""
   ]
  },
  {
   "cell_type": "markdown",
   "id": "a0dd325b",
   "metadata": {},
   "source": [
    "# Initialize OpenAI LLM"
   ]
  },
  {
   "cell_type": "code",
   "execution_count": null,
   "id": "9f64eb74-ff6e-4295-994a-dc012b7c6678",
   "metadata": {},
   "outputs": [
    {
     "name": "stderr",
     "output_type": "stream",
     "text": [
      "C:\\Users\\akhil\\AppData\\Local\\Temp\\ipykernel_6400\\814062019.py:2: LangChainDeprecationWarning: The class `ChatOpenAI` was deprecated in LangChain 0.0.10 and will be removed in 1.0. An updated version of the class exists in the :class:`~langchain-openai package and should be used instead. To use it run `pip install -U :class:`~langchain-openai` and import as `from :class:`~langchain_openai import ChatOpenAI``.\n",
      "  llm = ChatOpenAI(model=\"gpt-4\", temperature=0)\n"
     ]
    }
   ],
   "source": [
    "llm = ChatOpenAI(model=\"gpt-4\", temperature=0)"
   ]
  },
  {
   "cell_type": "markdown",
   "id": "77aede1b",
   "metadata": {},
   "source": [
    "#  Define system message for LLM"
   ]
  },
  {
   "cell_type": "code",
   "execution_count": null,
   "id": "290eb9a8-f95e-4061-a9d6-1b8866970359",
   "metadata": {},
   "outputs": [],
   "source": [
    "\n",
    "system_message = SystemMessage(\n",
    "    content=\"\"\"\n",
    "    You are an expert in US geography. Your task is to fill missing values for **State, Country, and Place**\n",
    "    based on the given **Street Name, Location, and Pincode**.\n",
    "    - Extract the correct **State, Country, and Place**.\n",
    "    - If unsure, return 'Unknown'.\n",
    "    \"\"\"\n",
    ")"
   ]
  },
  {
   "cell_type": "markdown",
   "id": "39d442ef",
   "metadata": {},
   "source": [
    "# Function to get missing details"
   ]
  },
  {
   "cell_type": "code",
   "execution_count": null,
   "id": "38f58c76-91e9-49cf-b99f-4c9ccfe60b76",
   "metadata": {},
   "outputs": [],
   "source": [
    "def fill_missing_details(row):\n",
    "    if pd.isna(row['State']) or pd.isna(row['Country']) or pd.isna(row['Place']):\n",
    "        address = f\"{row['Street Name']}, {row['City']}, {row['Pincode']}\"\n",
    "        human_message = HumanMessage(content=f\"Find the State, Country, and Place for this address: {address}\")\n",
    "        \n",
    "        try:\n",
    "            response = llm([system_message, human_message]).content\n",
    "            \n",
    "            #  Extract values from response\n",
    "            lines = response.split(\"\\n\")\n",
    "            state = next((line.split(\": \")[1] for line in lines if \"State:\" in line), \"Unknown\")\n",
    "            country = next((line.split(\": \")[1] for line in lines if \"Country:\" in line), \"Unknown\")\n",
    "            place = next((line.split(\": \")[1] for line in lines if \"Place:\" in line), \"Unknown\")\n",
    "            \n",
    "            print(f\"Processed: {address} -> State: {state}, Country: {country}, Place: {place}\")\n",
    "            return pd.Series([state, country, place])\n",
    "        except Exception as e:\n",
    "            print(f\"Error processing {address}: {e}\")\n",
    "            return pd.Series([row['State'], row['Country'], row['Place']])\n",
    "    else:\n",
    "        return pd.Series([row['State'], row['Country'], row['Place']])"
   ]
  },
  {
   "cell_type": "code",
   "execution_count": 15,
   "id": "69094b6b-bb83-4840-8a02-efeb05caf724",
   "metadata": {},
   "outputs": [
    {
     "name": "stdout",
     "output_type": "stream",
     "text": [
      "Index(['Company Name', 'Street Name', 'Place', 'City', 'Pincode', 'State',\n",
      "       'County'],\n",
      "      dtype='object')\n"
     ]
    }
   ],
   "source": [
    "print(data.columns)"
   ]
  },
  {
   "cell_type": "markdown",
   "id": "51a7e8f9",
   "metadata": {},
   "source": [
    "#  Apply function to dataset"
   ]
  },
  {
   "cell_type": "code",
   "execution_count": null,
   "id": "f521987a-c771-4444-b661-befb93923ee9",
   "metadata": {},
   "outputs": [
    {
     "name": "stderr",
     "output_type": "stream",
     "text": [
      "C:\\Users\\akhil\\AppData\\Local\\Temp\\ipykernel_6400\\3164494572.py:8: LangChainDeprecationWarning: The method `BaseChatModel.__call__` was deprecated in langchain-core 0.1.7 and will be removed in 1.0. Use :meth:`~invoke` instead.\n",
      "  response = llm([system_message, human_message]).content\n"
     ]
    },
    {
     "name": "stdout",
     "output_type": "stream",
     "text": [
      "Processed: 810 Crescent Centre Drive, Suite 400, Franklin, TN 37067 -> State: Tennessee, Country: United States, Place: Franklin\n",
      "Processed: 888 W. Big Beaver Road, Suite 1200, Troy, MI 48084 -> State: Michigan, Country: United States, Place: Troy\n",
      "Processed: 2 Tower Center Boulevard, Suite 2200, East Brunswick, NJ 08816 -> State: New Jersey, Country: United States, Place: East Brunswick\n",
      "Processed: 1114 Avenue of the Americas, Suite 3030, New York, NY 10036 -> State: New York, Country: United States, Place: New York City\n",
      "Processed: 2858 Woodcock Blvd, Suites 100-300, Atlanta, GA 30341 -> State: Georgia, Country: United States, Place: Atlanta\n",
      "Processed: 5445 Legacy Drive, Suite 300, Plano, TX 75024 -> State: Texas, Country: United States, Place: Plano\n",
      "Processed: 425 National Avenue, Mountain View, CA 94043 -> State: California, Country: United States, Place: Mountain View\n",
      "Processed: 500 Frank W. Burr Blvd., Teaneck, NJ 07666 -> State: New Jersey, Country: United States, Place: Teaneck\n",
      "Processed: 200 Somerset Corporate Blvd., Bridgewater, NJ 08807 -> State: New Jersey, Country: United States, Place: Bridgewater\n",
      "Processed: 620 8th Avenue, New York, NY 10018 -> State: New York, Country: United States, Place: New York City\n",
      "Processed: 5001 Statesman Drive, Irving, TX 75063 -> State: Texas, Country: United States, Place: Irving\n",
      "Processed: 255 Fiserv Drive, Brookfield, WI 53045 -> State: Wisconsin, Country: United States, Place: Brookfield\n"
     ]
    }
   ],
   "source": [
    "data[['State', 'Country', 'Place']] = data.apply(fill_missing_details, axis=1)"
   ]
  },
  {
   "cell_type": "markdown",
   "id": "d89113d6",
   "metadata": {},
   "source": [
    "# Save updated dataset"
   ]
  },
  {
   "cell_type": "code",
   "execution_count": null,
   "id": "b22ec499-2ef4-4500-bf4d-63457b216885",
   "metadata": {},
   "outputs": [
    {
     "name": "stdout",
     "output_type": "stream",
     "text": [
      "Updated dataset saved successfully with missing details filled.\n"
     ]
    }
   ],
   "source": [
    "data.to_excel(\"C:\\\\Users\\\\akhil\\\\Downloads\\\\US_addresses.xlsx\", index=False)\n",
    "\n",
    "print(\"Updated dataset saved successfully with missing details filled.\")"
   ]
  },
  {
   "cell_type": "code",
   "execution_count": null,
   "id": "0c0f3b11-bcc8-479a-bc06-c145b437b020",
   "metadata": {},
   "outputs": [],
   "source": []
  }
 ],
 "metadata": {
  "kernelspec": {
   "display_name": "Python 3 (ipykernel)",
   "language": "python",
   "name": "python3"
  },
  "language_info": {
   "codemirror_mode": {
    "name": "ipython",
    "version": 3
   },
   "file_extension": ".py",
   "mimetype": "text/x-python",
   "name": "python",
   "nbconvert_exporter": "python",
   "pygments_lexer": "ipython3",
   "version": "3.12.7"
  }
 },
 "nbformat": 4,
 "nbformat_minor": 5
}
