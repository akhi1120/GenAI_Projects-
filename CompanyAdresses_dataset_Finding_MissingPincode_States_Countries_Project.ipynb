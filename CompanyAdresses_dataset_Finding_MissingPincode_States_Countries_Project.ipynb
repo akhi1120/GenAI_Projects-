{
 "cells": [
  {
   "cell_type": "markdown",
   "id": "036676ac-198e-4e06-b0f7-8396ae41a810",
   "metadata": {},
   "source": [
    "# Import Necessary Dependencies"
   ]
  },
  {
   "cell_type": "code",
   "execution_count": 72,
   "id": "716332a0-ff4b-432a-947d-9c80afa14e21",
   "metadata": {},
   "outputs": [],
   "source": [
    "import pandas as pd\n",
    "import re\n",
    "import time\n",
    "from langchain.chat_models import ChatOpenAI\n",
    "from langchain.schema import SystemMessage, HumanMessage\n",
    "from langchain.llms import OpenAI\n",
    "from langchain.prompts import PromptTemplate\n",
    "from langchain.chains import LLMChain\n",
    "import os"
   ]
  },
  {
   "cell_type": "markdown",
   "id": "188e3789-3a27-4e1a-9573-1d77929e7c4d",
   "metadata": {},
   "source": [
    "# Load dataset"
   ]
  },
  {
   "cell_type": "code",
   "execution_count": 74,
   "id": "a8a31ac8-e390-4d81-b7b3-712a9e46fd8d",
   "metadata": {},
   "outputs": [],
   "source": [
    "# Load CSV file into pandas DataFrame\n",
    "df = pd.read_csv(\"C:\\\\Users\\\\akhil\\\\Downloads\\\\addresses_company_missing1.csv\")"
   ]
  },
  {
   "cell_type": "markdown",
   "id": "31f81c2c-c40e-4ccb-81c6-733e35ec7a0d",
   "metadata": {},
   "source": [
    "# Setting Key"
   ]
  },
  {
   "cell_type": "code",
   "execution_count": null,
   "id": "1044a979-5c0c-4c34-b4cc-04d88b2531eb",
   "metadata": {},
   "outputs": [],
   "source": [
    "# OpenAI API Key (Replace with your actual key)\n",
    "openai_api_key = \"your api key\""
   ]
  },
  {
   "cell_type": "markdown",
   "id": "7440cc6d-8e8a-49f7-8318-286720ff3229",
   "metadata": {},
   "source": [
    "# Initialize OpenAI Model"
   ]
  },
  {
   "cell_type": "code",
   "execution_count": 78,
   "id": "d5a6d43d-9ceb-47fd-b4a1-2f5b6fcbd355",
   "metadata": {},
   "outputs": [],
   "source": [
    "llm = ChatOpenAI(model_name=\"gpt-4\", openai_api_key=openai_api_key, temperature=0)\n"
   ]
  },
  {
   "cell_type": "markdown",
   "id": "05cd0aeb-d39d-4b76-a1e6-a409c1789526",
   "metadata": {},
   "source": [
    "# Define the system message "
   ]
  },
  {
   "cell_type": "code",
   "execution_count": 80,
   "id": "cd27a07d-3dda-4ab4-b2e2-6692c3a5cd79",
   "metadata": {},
   "outputs": [],
   "source": [
    "system_message = SystemMessage(\n",
    "    content=\"\"\"\n",
    "You are an expert in Indian geography. Your task is to find the **correct pincode** for a given address.\n",
    "The address contains a **street name, location, and place**.\n",
    "\n",
    "**Example Inputs & Outputs:**\n",
    "    Address: \"MG Road, Bangalore, Karnataka\" → **Pincode: 560001**\n",
    "    Address: \"Sector 15, Gurgaon, Haryana\" → **Pincode: 122001**\n",
    "    Address: \"Connaught Place, Delhi, Delhi\" → **Pincode: 110001**\n",
    "\n",
    " **Rules:**\n",
    "- Extract only the **6-digit** pincode.\n",
    "- Do **not** make up a random pincode.\n",
    "- If unsure, return `\"000000\"`.\n",
    "\n",
    "Here is the given address:\n",
    "\"\"\"\n",
    ")\n"
   ]
  },
  {
   "cell_type": "markdown",
   "id": "b74fe7b5-ca20-4010-8896-2fb00cce69b6",
   "metadata": {},
   "source": [
    "# Function to extract only the pincode from the response"
   ]
  },
  {
   "cell_type": "code",
   "execution_count": 82,
   "id": "a3544ee9-56c1-40b9-9ab2-2c3c66ddf69d",
   "metadata": {},
   "outputs": [],
   "source": [
    "def extract_pincode(response):\n",
    "    match = re.search(r'\\b\\d{6}\\b', response)  # Extracts valid 6-digit pincode\n",
    "    return match.group(0) if match else '000000'  # Default if no pincode found"
   ]
  },
  {
   "cell_type": "markdown",
   "id": "82b93709-0e32-4a4f-ae50-fecbabdf43c3",
   "metadata": {},
   "source": [
    "# Function to fill missing pincodes"
   ]
  },
  {
   "cell_type": "code",
   "execution_count": 84,
   "id": "c8b0085c-4e52-41b9-8081-a074313b29c5",
   "metadata": {},
   "outputs": [],
   "source": [
    "def fill_missing_pincodes(row):\n",
    "    if pd.isna(row['Pincode']) or row['Pincode'] == '':\n",
    "        address = f\"{row['Street Name']}, {row['Location']}, {row['Place']}\"\n",
    "        \n",
    "        # Human message for the prompt\n",
    "        human_message = HumanMessage(content=f\"Find the correct pincode for based on this address: {address}\")\n",
    "        \n",
    "        try:\n",
    "            response = llm([system_message, human_message]).content  # Get the response from OpenAI\n",
    "            pincode = extract_pincode(response)\n",
    "            return pincode\n",
    "        except Exception as e:\n",
    "            print(f\"Error fetching pincode for {address}: {e}\")\n",
    "            return '000000'  # Default for failures\n",
    "    else:\n",
    "        return row['Pincode']"
   ]
  },
  {
   "cell_type": "code",
   "execution_count": 85,
   "id": "8c54790d-5e6f-4e36-ad52-01783d4c7630",
   "metadata": {},
   "outputs": [],
   "source": [
    "# Apply function to dataframe with a delay to avoid rate limits\n",
    "for i in range(len(df)):\n",
    "    df.loc[i, 'Pincode'] = fill_missing_pincodes(df.iloc[i])\n",
    "    time.sleep(1)  # Prevent hitting API limits"
   ]
  },
  {
   "cell_type": "code",
   "execution_count": 86,
   "id": "b25cd15d-42c6-4123-aec0-4cc59b7a473f",
   "metadata": {},
   "outputs": [
    {
     "name": "stdout",
     "output_type": "stream",
     "text": [
      "Updated dataset saved successfully with integer pincodes.\n"
     ]
    }
   ],
   "source": [
    "# Ensure Pincode is clean before conversion\n",
    "def clean_pincode(value):\n",
    "    try:\n",
    "        return int(float(str(value).strip()))  # Convert to float first, then integer\n",
    "    except ValueError:\n",
    "        return None  # Keep it as None if conversion fails\n",
    "\n",
    "# Apply cleaning function to Pincode column\n",
    "df['Pincode'] = df['Pincode'].apply(clean_pincode)\n",
    "\n",
    "# Save the cleaned dataset\n",
    "df.to_csv('C:\\\\Users\\\\akhil\\\\Downloads\\\\addresses_company_missing1.csv', index=False)\n",
    "\n",
    "print(\"Updated dataset saved successfully with integer pincodes.\")\n"
   ]
  },
  {
   "cell_type": "markdown",
   "id": "c0ce06c9-2561-4b94-b725-c47f507bd57f",
   "metadata": {},
   "source": [
    "# Define the prompt template"
   ]
  },
  {
   "cell_type": "code",
   "execution_count": 88,
   "id": "0d857f25-870b-467c-953a-cb7fd76b4990",
   "metadata": {},
   "outputs": [],
   "source": [
    "prompt_template = PromptTemplate(\n",
    "    input_variables=[\"street\", \"place\", \"location\"],\n",
    "    template=\"Given the following details:\\nStreet Number: {street}\\nPlace: {place}\\nLocation: {location}\\n\"\n",
    "             \"What is the correct state for this address?\",\n",
    ")"
   ]
  },
  {
   "cell_type": "code",
   "execution_count": null,
   "id": "502e00ac-02cd-4cf8-bb31-3648db6dd94b",
   "metadata": {},
   "outputs": [],
   "source": [
    "openai_api_key = \"your api key\""
   ]
  },
  {
   "cell_type": "code",
   "execution_count": 90,
   "id": "8c1f1bf9-2442-4203-840a-7115090ade6b",
   "metadata": {},
   "outputs": [],
   "source": [
    "# Initialize the LLM model\n",
    "llm = ChatOpenAI(model_name=\"gpt-4\", openai_api_key=openai_api_key, temperature=0)"
   ]
  },
  {
   "cell_type": "code",
   "execution_count": 91,
   "id": "8056802a-101c-4cd6-81a0-fac1897797ca",
   "metadata": {},
   "outputs": [],
   "source": [
    "# Create the LangChain pipeline\n",
    "chain = LLMChain(llm=llm, prompt=prompt_template)"
   ]
  },
  {
   "cell_type": "markdown",
   "id": "092dd8a9-8af3-4088-815f-185dcfc04b6e",
   "metadata": {},
   "source": [
    "# Finding states of all locations "
   ]
  },
  {
   "cell_type": "code",
   "execution_count": 93,
   "id": "c1b53061-27c9-4d39-8dd0-5a9c5d2d49d2",
   "metadata": {},
   "outputs": [],
   "source": [
    "# Initialize ChatOpenAI model\n",
    "chat = ChatOpenAI(model_name=\"gpt-4\", temperature=0, openai_api_key=openai_api_key)\n",
    "\n",
    "def get_state_from_location(street_name, place, location, pincode):\n",
    "    \"\"\"Extracts only the state name from location details using GPT-4.\"\"\"\n",
    "    messages = [\n",
    "        SystemMessage(content=\"You are an AI assistant that extracts only the state name from location details. Do not return any extra text.\"),\n",
    "        HumanMessage(content=f\"\"\"\n",
    "        Given the following address details:\n",
    "        - Street Name: {street_name}\n",
    "        - Place: {place}\n",
    "        - Location: {location}\n",
    "        - Pincode: {pincode}\n",
    "        \n",
    "        Identify and return **only** the correct state name in India. Do not include any additional words, phrases, or explanations.\n",
    "        \"\"\")\n",
    "    ]\n",
    "    \n",
    "    response = chat(messages)\n",
    "    return response.content.strip()"
   ]
  },
  {
   "cell_type": "code",
   "execution_count": 94,
   "id": "0514a186-ffd1-4ed8-a496-a697f72bcff8",
   "metadata": {},
   "outputs": [],
   "source": [
    "# Apply function to update the State column\n",
    "df['State'] = df.apply(lambda row: get_state_from_location(row['Street Name'], row['Place'], row['Location'], row['Pincode']), axis=1)"
   ]
  },
  {
   "cell_type": "code",
   "execution_count": 120,
   "id": "b48ed81f-04ab-4a99-839c-fa1f472af265",
   "metadata": {},
   "outputs": [
    {
     "name": "stdout",
     "output_type": "stream",
     "text": [
      "State column added successfully!\n"
     ]
    }
   ],
   "source": [
    "# Save updated dataset\n",
    "df.to_csv(\"C:\\\\Users\\\\akhil\\\\Downloads\\\\addresses_company_missing1.csv\", index=False)\n",
    "\n",
    "print(\"State column added successfully!\")"
   ]
  },
  {
   "cell_type": "markdown",
   "id": "bbd69e5b",
   "metadata": {},
   "source": [
    "# Finding countries of all locations "
   ]
  },
  {
   "cell_type": "code",
   "execution_count": 128,
   "id": "17138557-7f04-4ee5-a1a0-9759d313a79b",
   "metadata": {},
   "outputs": [],
   "source": [
    "def get_country_from_location(street_name, place, location, pincode, state):\n",
    "    \"\"\"Extracts only the country name from location details using GPT-4.\"\"\"\n",
    "    messages = [\n",
    "        SystemMessage(content=\"You are an AI assistant that extracts only the Country name from location details. Do not return any extra text.\"),\n",
    "        HumanMessage(content=f\"\"\"\n",
    "        Given the following address details:\n",
    "        - Street Name: {street_name}\n",
    "        - Place: {place}\n",
    "        - Location: {location}\n",
    "        - Pincode: {pincode}\n",
    "        - State: {state}\n",
    "        \n",
    "        Identify and return **only** the correct Country name in India. Do not include any additional words, phrases, or explanations.\n",
    "        \"\"\")\n",
    "    ]\n",
    "    \n",
    "    response = chat(messages)\n",
    "    return response.content.strip()"
   ]
  },
  {
   "cell_type": "code",
   "execution_count": 130,
   "id": "9d7d0e00-c32b-4963-b56e-532a03c28ef1",
   "metadata": {},
   "outputs": [],
   "source": [
    "# Apply function to update the State column\n",
    "df['Country'] = df.apply(lambda row: get_state_from_location(row['Street Name'], row['Place'], row['Location'], row['Pincode'],row['State']), axis=1)"
   ]
  },
  {
   "cell_type": "code",
   "execution_count": 131,
   "id": "d0280965-aa59-48c0-9c71-83e06ee727a0",
   "metadata": {},
   "outputs": [
    {
     "name": "stdout",
     "output_type": "stream",
     "text": [
      "Country column added successfully!\n"
     ]
    }
   ],
   "source": [
    "# Save updated dataset\n",
    "df.to_csv(\"C:\\\\Users\\\\akhil\\\\Downloads\\\\addresses_company_missing1.csv\", index=False)\n",
    "\n",
    "print(\"Country column added successfully!\")"
   ]
  },
  {
   "cell_type": "code",
   "execution_count": null,
   "id": "23925fa8-ece2-47f4-b4f8-1c98398c2cca",
   "metadata": {},
   "outputs": [],
   "source": []
  },
  {
   "cell_type": "code",
   "execution_count": null,
   "id": "7af2c23d-3ea7-4268-9fee-1229921ef567",
   "metadata": {},
   "outputs": [],
   "source": []
  }
 ],
 "metadata": {
  "kernelspec": {
   "display_name": "Python 3 (ipykernel)",
   "language": "python",
   "name": "python3"
  },
  "language_info": {
   "codemirror_mode": {
    "name": "ipython",
    "version": 3
   },
   "file_extension": ".py",
   "mimetype": "text/x-python",
   "name": "python",
   "nbconvert_exporter": "python",
   "pygments_lexer": "ipython3",
   "version": "3.12.7"
  }
 },
 "nbformat": 4,
 "nbformat_minor": 5
}
