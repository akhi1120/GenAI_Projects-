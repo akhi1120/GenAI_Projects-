{
 "cells": [
  {
   "cell_type": "markdown",
   "id": "ea2ce9d1",
   "metadata": {},
   "source": [
    "# Import necessary libraries"
   ]
  },
  {
   "cell_type": "code",
   "execution_count": 94,
   "id": "d5fd78de-78a8-433d-971f-629b7923980c",
   "metadata": {},
   "outputs": [],
   "source": [
    "import openai\n",
    "import pandas as pd\n",
    "import time"
   ]
  },
  {
   "cell_type": "markdown",
   "id": "ebd41c08",
   "metadata": {},
   "source": [
    "# Load dataset"
   ]
  },
  {
   "cell_type": "code",
   "execution_count": null,
   "id": "6b0cbb9c-61ab-4329-bd8b-303fa45aac62",
   "metadata": {},
   "outputs": [],
   "source": [
    "file_path = \"C:\\\\Users\\\\akhil\\\\Downloads\\\\Chinese_addresses.xlsx\"\n",
    "df = pd.read_excel(file_path)"
   ]
  },
  {
   "cell_type": "markdown",
   "id": "4a10a66c",
   "metadata": {},
   "source": [
    "# Setting OpenApi key"
   ]
  },
  {
   "cell_type": "code",
   "execution_count": null,
   "id": "12a13889-4a5d-4743-802f-1a3389aa245e",
   "metadata": {},
   "outputs": [],
   "source": [
    "# OpenAI API Key \n",
    "openai.api_key =\"your api key\""
   ]
  },
  {
   "cell_type": "code",
   "execution_count": 100,
   "id": "2174c47d-ff7c-4973-99a9-66e7f1dffa15",
   "metadata": {},
   "outputs": [],
   "source": [
    "def get_pincode(city, street):\n",
    "    \"\"\"\n",
    "    Placeholder function to get the missing pincode.\n",
    "    Ideally, use an API or a predefined dataset to fetch correct pincode.\n",
    "    \"\"\"\n",
    "    # Simulating API call delay\n",
    "    time.sleep(1)\n",
    "    \n",
    "    # Dummy dictionary for demonstration (Replace with real lookup logic)\n",
    "    pincode_lookup = {\n",
    "        \"成都\": \"610041\",\n",
    "        \"大连\": \"116033\",\n",
    "    }\n",
    "    \n",
    "    return pincode_lookup.get(city, \"Unknown\")\n",
    "\n",
    "def get_state(city):\n",
    "    \"\"\"\n",
    "    Returns the state based on the city.\n",
    "    \"\"\"\n",
    "    state_lookup = {\n",
    "        \"成都\": \"四川省\",\n",
    "        \"大连\": \"辽宁省\",\n",
    "    }\n",
    "    return state_lookup.get(city, \"Unknown\")\n"
   ]
  },
  {
   "cell_type": "markdown",
   "id": "8798c4c7",
   "metadata": {},
   "source": [
    " # Identify rows with missing or incorrect pincodes"
   ]
  },
  {
   "cell_type": "code",
   "execution_count": null,
   "id": "430974b0-5577-45c4-9486-854b94dd06b9",
   "metadata": {},
   "outputs": [],
   "source": [
    "df[\"Pincode\"] = df[\"Pincode\"].astype(str)  # Convert to string for consistency\n",
    "df.loc[df[\"Pincode\"].str.strip() == \"-\", \"Pincode\"] = None  # Treat '-' as missing\n",
    "\n",
    "df[\"Pincode\"] = df.apply(lambda row: get_pincode(row[\"City\"], row[\"Street Name\"]) if pd.isna(row[\"Pincode\"]) else row[\"Pincode\"], axis=1)"
   ]
  },
  {
   "cell_type": "code",
   "execution_count": 103,
   "id": "d4d271ee-dbe8-4af0-8900-1fca0dc765a7",
   "metadata": {},
   "outputs": [],
   "source": [
    "# Add State column\n",
    "df[\"State\"] = df[\"City\"].apply(get_state)"
   ]
  },
  {
   "cell_type": "markdown",
   "id": "996c896e",
   "metadata": {},
   "source": [
    "# Save the updated file"
   ]
  },
  {
   "cell_type": "code",
   "execution_count": null,
   "id": "f3d49067-d19a-48c1-b033-4de92416ab55",
   "metadata": {},
   "outputs": [
    {
     "name": "stdout",
     "output_type": "stream",
     "text": [
      "Missing pincodes and states filled\n"
     ]
    }
   ],
   "source": [
    "df.to_excel(\"C:\\\\Users\\\\akhil\\\\Downloads\\\\Chinese_addresses.xlsx\", index=False)\n",
    "\n",
    "print(\"Missing pincodes and states filled\")"
   ]
  },
  {
   "cell_type": "code",
   "execution_count": null,
   "id": "18b5d3b2-82af-43a5-95d8-6821867aa50a",
   "metadata": {},
   "outputs": [],
   "source": []
  }
 ],
 "metadata": {
  "kernelspec": {
   "display_name": "Python 3 (ipykernel)",
   "language": "python",
   "name": "python3"
  },
  "language_info": {
   "codemirror_mode": {
    "name": "ipython",
    "version": 3
   },
   "file_extension": ".py",
   "mimetype": "text/x-python",
   "name": "python",
   "nbconvert_exporter": "python",
   "pygments_lexer": "ipython3",
   "version": "3.12.7"
  }
 },
 "nbformat": 4,
 "nbformat_minor": 5
}
